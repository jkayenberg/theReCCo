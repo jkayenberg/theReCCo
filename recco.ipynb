{
 "cells": [
  {
   "cell_type": "markdown",
   "metadata": {},
   "source": [
    "<h2>Imports</h2>"
   ]
  },
  {
   "cell_type": "code",
   "execution_count": 41,
   "metadata": {},
   "outputs": [],
   "source": [
    "# Import libraries\n",
    "\n",
    "import simpy\n",
    "import pandas as pd\n",
    "import numpy as np\n",
    "import matplotlib.pyplot as plt\n",
    "from util import Battery, read_battery_process, solar_charge_process, compute_tasks_process, wind_charge_process"
   ]
  },
  {
   "cell_type": "markdown",
   "metadata": {},
   "source": [
    "<h2>Constraints</h2>"
   ]
  },
  {
   "cell_type": "code",
   "execution_count": 48,
   "metadata": {},
   "outputs": [],
   "source": [
    "# Set constraints\n",
    "\n",
    "minimal_reliability = 0.95\n",
    "season = 'summer'"
   ]
  },
  {
   "cell_type": "markdown",
   "metadata": {},
   "source": [
    "<h2>Data prep</h2>"
   ]
  },
  {
   "cell_type": "code",
   "execution_count": 43,
   "metadata": {},
   "outputs": [],
   "source": [
    "# Load and prepare data from csv-files\n",
    "START_DATE = pd.to_datetime(\"2021-06-01 00:00:00\")\n",
    "END_DATE = pd.to_datetime(\"2021-06-08 00:00:00\")\n",
    "INDEX = pd.date_range(START_DATE, END_DATE, freq=\"s\")  # +timedelta(minutes=1)\n",
    "\n",
    "\n",
    "# Load data between START_DATE and END_DATE\n",
    "with open(\"data/weather_berlin_2021-06.csv\", \"r\") as csvfile:\n",
    "    weather_df = pd.read_csv(csvfile, parse_dates=True, index_col=0)[START_DATE:END_DATE]\n",
    "with open(\"data/low_prio_tasks.csv\", \"r\") as csvfile:\n",
    "    tasks_df = pd.read_csv(csvfile, parse_dates=True, index_col=0)[START_DATE:END_DATE]\n",
    "with open(\"data/weather_berlin_2021-12.csv\", \"r\") as csvfile:\n",
    "    weather_winter_df = pd.read_csv(csvfile, parse_dates=True, index_col=0)[START_DATE:END_DATE]\n"
   ]
  },
  {
   "cell_type": "markdown",
   "metadata": {},
   "source": [
    "<h2>Scenario and costs</h2>"
   ]
  },
  {
   "cell_type": "code",
   "execution_count": 1,
   "metadata": {},
   "outputs": [
    {
     "data": {
      "text/plain": [
       "'\\nSources:\\n\\nhttps://www.photovoltaik-shop.com/solarmodul-meyer-burger-black-380wp-mono-halbzellen-full-black-2006000018.html\\nhttps://de.exchange-rates.org/Rate/USD/EUR/16.12.2020\\nhttps://www.ebay.de/itm/234775191377?_trkparms=amclksrc%3DITM%26aid%3D1110006%26algo%3DHOMESPLICE.SIM%26ao%3D1%26asc%3D243355%26meid%3D0b17340d58b649be96fbdc4667439b63%26pid%3D101224%26rk%3D2%26rkt%3D5%26sd%3D234632728658%26itm%3D234775191377%26pmt%3D0%26noa%3D1%26pg%3D2047675%26algv%3DDefaultOrganicWebWithV5RefreshRanker&_trksid=p2047675.c101224.m-1\\nhttps://www.omnicalculator.com/ecology/wind-turbine#how-to-calculate-the-power-generated-by-a-wind-turbine\\nhttps://www.amazon.de/ZHIHUASMTBX-Vertikaler-Windkraftanlage-Verwendung-Geräuschlos/dp/B09SZ4JK22/ref=asc_df_B09SZ4JK22/?tag=googshopde-21&linkCode=df0&hvadid=604161997903&hvpos=&hvnetw=g&hvrand=5782366940088564558&hvpone=&hvptwo=&hvqmt=&hvdev=c&hvdvcmdl=&hvlocint=&hvlocphy=9060641&hvtargid=pla-1685653218226&psc=1&th=1&psc=1\\n\\n'"
      ]
     },
     "execution_count": 1,
     "metadata": {},
     "output_type": "execute_result"
    }
   ],
   "source": [
    "# Set researched values for costs etc. depending on the scenario\n",
    "\n",
    "# BATTERIES\n",
    "BATTERY_CAPACITIES = [i for i in range(500, 10500, 500)]    # Wh\n",
    "cost_per_capacity = 1                                       # €/Wh\n",
    "\n",
    "# SOLAR PANELS\n",
    "SOLAR_AREAS = [i*1.7 for i in range(4)]                     # m^2\n",
    "cost_per_solar = 330                                        # €/Panel\n",
    "\n",
    "# WIND TURBINE\n",
    "wind_areas = [\"large\", \"small\", \"none\"]\n",
    "wind_prices = [400, 2000]                                   # €\n",
    "\n",
    "\n",
    "\n",
    "\"\"\"\n",
    "Sources:\n",
    "\n",
    "https://www.photovoltaik-shop.com/solarmodul-meyer-burger-black-380wp-mono-halbzellen-full-black-2006000018.html\n",
    "https://de.exchange-rates.org/Rate/USD/EUR/16.12.2020\n",
    "https://www.ebay.de/itm/234775191377?_trkparms=amclksrc%3DITM%26aid%3D1110006%26algo%3DHOMESPLICE.SIM%26ao%3D1%26asc%3D243355%26meid%3D0b17340d58b649be96fbdc4667439b63%26pid%3D101224%26rk%3D2%26rkt%3D5%26sd%3D234632728658%26itm%3D234775191377%26pmt%3D0%26noa%3D1%26pg%3D2047675%26algv%3DDefaultOrganicWebWithV5RefreshRanker&_trksid=p2047675.c101224.m-1\n",
    "https://www.omnicalculator.com/ecology/wind-turbine#how-to-calculate-the-power-generated-by-a-wind-turbine\n",
    "https://www.amazon.de/ZHIHUASMTBX-Vertikaler-Windkraftanlage-Verwendung-Geräuschlos/dp/B09SZ4JK22/ref=asc_df_B09SZ4JK22/?tag=googshopde-21&linkCode=df0&hvadid=604161997903&hvpos=&hvnetw=g&hvrand=5782366940088564558&hvpone=&hvptwo=&hvqmt=&hvdev=c&hvdvcmdl=&hvlocint=&hvlocphy=9060641&hvtargid=pla-1685653218226&psc=1&th=1&psc=1\n",
    "\n",
    "\"\"\""
   ]
  },
  {
   "cell_type": "markdown",
   "metadata": {},
   "source": [
    "<h2>Simulation Function</h2>"
   ]
  },
  {
   "cell_type": "code",
   "execution_count": 45,
   "metadata": {},
   "outputs": [],
   "source": [
    "def simulation(panel, capacity, area, season):\n",
    "    \"\"\"\n",
    "    Runs simulation for a specific setup.\n",
    "    \"\"\"\n",
    "\n",
    "    # Calculate set-up cost\n",
    "    cost = cost_per_capacity*capacity + cost_per_solar*panel/1.7\n",
    "    if area==\"large\":\n",
    "        cost += wind_prices[1]\n",
    "    elif area==\"small\":\n",
    "        cost +=wind_prices[0]\n",
    "\n",
    "    # Initialize Battery\n",
    "    battery = Battery(capacity=capacity, soc=capacity)\n",
    "    battery_socs = []\n",
    "    task_stats = []\n",
    "\n",
    "    if season==\"winter\":\n",
    "        # Run simulation for winter\n",
    "        env = simpy.Environment()\n",
    "        env.process(solar_charge_process(env, battery, solar_area=panel, solar_values=weather_winter_df[\"solar\"]))\n",
    "        env.process(wind_charge_process(env, battery, area, weather_winter_df[\"wind\"]))\n",
    "        env.process(compute_tasks_process(env, battery, start_date=START_DATE, task_arrival_times=tasks_df.index, task_stats=task_stats))\n",
    "        env.process(read_battery_process(env, battery, battery_socs))\n",
    "        env.run(until=len(INDEX))\n",
    "    else:\n",
    "\n",
    "        # Run simulation for summer\n",
    "        env = simpy.Environment()\n",
    "        env.process(solar_charge_process(env, battery, solar_area=panel, solar_values=weather_df[\"solar\"]))\n",
    "        env.process(wind_charge_process(env, battery, area, weather_df[\"wind\"]))\n",
    "        env.process(compute_tasks_process(env, battery, start_date=START_DATE, task_arrival_times=tasks_df.index, task_stats=task_stats))\n",
    "        env.process(read_battery_process(env, battery, battery_socs))\n",
    "        env.run(until=len(INDEX))\n",
    "\n",
    "    # Calculate stats\n",
    "    rate = check_stats(task_stats)\n",
    "\n",
    "    return cost, rate\n",
    "\n",
    "\n",
    "\n",
    "def check_stats(stats):\n",
    "    \"\"\"\n",
    "    Calculates successrate from stats.\n",
    "    \"\"\"\n",
    "\n",
    "    success_count = 0\n",
    "    for task in stats:\n",
    "        if task[1]:\n",
    "            success_count += 1\n",
    "\n",
    "    return success_count/len(stats)\n"
   ]
  },
  {
   "cell_type": "markdown",
   "metadata": {},
   "source": [
    "<h2>Main</h2>"
   ]
  },
  {
   "cell_type": "code",
   "execution_count": 50,
   "metadata": {},
   "outputs": [
    {
     "name": "stdout",
     "output_type": "stream",
     "text": [
      "STARTING WITH FIRST WIND CONFIG.......\n",
      "\tSTARTING WITH FIRST SOLAR CONFIG.......\n",
      "\tPROGRESSING TO NEXT SOLAR CONFIG (2/4).......\n",
      "\tPROGRESSING TO NEXT SOLAR CONFIG (3/4).......\n",
      "\tPROGRESSING TO NEXT SOLAR CONFIG (4/4).......\n",
      "PROGRESSING TO NEXT WIND CONFIG (2/3).......\n",
      "\tSTARTING WITH FIRST SOLAR CONFIG.......\n",
      "\tPROGRESSING TO NEXT SOLAR CONFIG (2/4).......\n",
      "\tPROGRESSING TO NEXT SOLAR CONFIG (3/4).......\n",
      "\tPROGRESSING TO NEXT SOLAR CONFIG (4/4).......\n",
      "PROGRESSING TO NEXT WIND CONFIG (3/3).......\n",
      "\tSTARTING WITH FIRST SOLAR CONFIG.......\n",
      "\tPROGRESSING TO NEXT SOLAR CONFIG (2/4).......\n",
      "\tPROGRESSING TO NEXT SOLAR CONFIG (3/4).......\n",
      "\tPROGRESSING TO NEXT SOLAR CONFIG (4/4).......\n",
      "\n",
      "____SIMULATION FINISHED_______\n"
     ]
    }
   ],
   "source": [
    "# Initialize resulting DataFrame\n",
    "columns = ['Panel count', 'Battery capacity', 'Windturbine size', 'Price', 'Success rate']\n",
    "result_df = pd.DataFrame(columns=columns)\n",
    "\n",
    "# Running Simulation for all configurations\n",
    "print(f\"STARTING WITH FIRST WIND CONFIG.......\")\n",
    "for count_w, area in enumerate(wind_areas):\n",
    "    \n",
    "    for count_p, panel in enumerate(SOLAR_AREAS):\n",
    "\n",
    "        if count_p ==0:\n",
    "            print(f\"\\tSTARTING WITH FIRST SOLAR CONFIG.......\")\n",
    "        for count_b, capacity in enumerate(BATTERY_CAPACITIES):\n",
    "\n",
    "            cost, rate = simulation(panel, capacity, area, season)\n",
    "\n",
    "            df_entry = pd.DataFrame([[int(panel/1.7), capacity, area, cost, rate]], columns=columns)\n",
    "            result_df = pd.concat([result_df, df_entry])\n",
    "        if count_p != len(SOLAR_AREAS)-1:\n",
    "            print(f\"\\tPROGRESSING TO NEXT SOLAR CONFIG ({count_p+2}/{len(SOLAR_AREAS)}).......\")\n",
    "\n",
    "    if count_w != len(wind_areas)-1:\n",
    "        print(f\"PROGRESSING TO NEXT WIND CONFIG ({count_w+2}/{len(wind_areas)}).......\")\n",
    "\n",
    "print(\"\\n____SIMULATION FINISHED_______\")"
   ]
  },
  {
   "cell_type": "markdown",
   "metadata": {},
   "source": [
    "<h2>Results</h2>"
   ]
  },
  {
   "cell_type": "code",
   "execution_count": 51,
   "metadata": {},
   "outputs": [
    {
     "name": "stdout",
     "output_type": "stream",
     "text": [
      "________________________________________________________\n",
      "\n",
      "RESULTS\n",
      "________________________________________________________\n",
      "\n",
      "The cheapest system to beat the minimal threshold is:\n",
      "\n",
      "Number of Solar Panels: 3\n",
      "     Battery Capacity: 0.5 kWh\n",
      "     Windturbine Configuration: none\n",
      "     Success Rate: 0.95\n",
      "     Price: 1490.0 €\n",
      "\n",
      "\n",
      "The most reliable system to buy is:\n",
      "\n",
      "Number of Solar Panels: 3\n",
      "     Battery Capacity: 1.0 kWh\n",
      "     Windturbine Configuration: none\n",
      "     Success Rate: 1.0\n",
      "     Price: 1990.0 €\n",
      "\n",
      "________________________________________________________\n",
      "\n"
     ]
    }
   ],
   "source": [
    "# Save results to csv\n",
    "#path = \"/result_summer_highbatteryprice.csv\"\n",
    "#result_df.to_csv(path)\n",
    "\n",
    "\n",
    "# Calculate best results\n",
    "over_th = result_df[\"Success rate\"] >= minimal_reliability\n",
    "results_ok = result_df[over_th]\n",
    "index = results_ok[\"Price\"].min()\n",
    "result_cheapest = list(results_ok[results_ok[\"Price\"] == index].to_numpy()[0])\n",
    "\n",
    "max_succes_rate = result_df[\"Success rate\"].max()\n",
    "results_ok = result_df[result_df[\"Success rate\"] == max_succes_rate]\n",
    "index = results_ok[\"Price\"].min()\n",
    "result_best = list(results_ok[results_ok[\"Price\"] == index].to_numpy()[0])\n",
    "\n",
    "\n",
    "\n",
    "# Print best system configurations\n",
    "print(\"________________________________________________________\\n\")\n",
    "print(\"RESULTS\")\n",
    "print(\"________________________________________________________\\n\")\n",
    "print(\"The cheapest system to beat the minimal threshold is:\\n\")\n",
    "print(f'Number of Solar Panels: {result_cheapest[0]}\\n \\\n",
    "    Battery Capacity: {result_cheapest[1]/1000} kWh\\n \\\n",
    "    Windturbine Configuration: {result_cheapest[2]}\\n \\\n",
    "    Success Rate: {result_cheapest[4]:.3}\\n \\\n",
    "    Price: {result_cheapest[3]} €\\n\\n')\n",
    "\n",
    "print(\"The most reliable system to buy is:\\n\")\n",
    "print(f'Number of Solar Panels: {result_best[0]}\\n \\\n",
    "    Battery Capacity: {result_best[1]/1000} kWh\\n \\\n",
    "    Windturbine Configuration: {result_best[2]}\\n \\\n",
    "    Success Rate: {result_best[4]:.3}\\n \\\n",
    "    Price: {result_best[3]} €\\n')\n",
    "print(\"________________________________________________________\\n\")"
   ]
  }
 ],
 "metadata": {
  "kernelspec": {
   "display_name": "Python 3.9.7 ('base')",
   "language": "python",
   "name": "python3"
  },
  "language_info": {
   "codemirror_mode": {
    "name": "ipython",
    "version": 3
   },
   "file_extension": ".py",
   "mimetype": "text/x-python",
   "name": "python",
   "nbconvert_exporter": "python",
   "pygments_lexer": "ipython3",
   "version": "3.9.7"
  },
  "orig_nbformat": 4,
  "vscode": {
   "interpreter": {
    "hash": "43fa9dd197ee1f03e002c4f1688630548b389fc2541d7a164bda014c4c3b117a"
   }
  }
 },
 "nbformat": 4,
 "nbformat_minor": 2
}
